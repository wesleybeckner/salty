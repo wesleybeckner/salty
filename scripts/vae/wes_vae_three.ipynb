{
 "cells": [
  {
   "cell_type": "markdown",
   "metadata": {},
   "source": [
    "Going to train on 50,000,000 molecules from GDB-17\n",
    "\n",
    "May later try scraping for all molecules w/ positive charge"
   ]
  },
  {
   "cell_type": "code",
   "execution_count": 1,
   "metadata": {},
   "outputs": [
    {
     "name": "stderr",
     "output_type": "stream",
     "text": [
      "/home/wesleybeckner/anaconda3/envs/py36/lib/python3.6/site-packages/h5py/__init__.py:36: FutureWarning: Conversion of the second argument of issubdtype from `float` to `np.floating` is deprecated. In future, it will be treated as `np.float64 == np.dtype(float).type`.\n",
      "  from ._conv import register_converters as _register_converters\n",
      "Using TensorFlow backend.\n"
     ]
    }
   ],
   "source": [
    "import matplotlib.pylab as plt\n",
    "import numpy as np\n",
    "import seaborn as sns; sns.set()\n",
    "%matplotlib inline\n",
    "\n",
    "import keras\n",
    "from keras.models import Sequential, Model\n",
    "from keras.layers import Dense\n",
    "from keras.optimizers import Adam\n",
    "import salty\n",
    "from numpy import array\n",
    "from numpy import argmax\n",
    "from sklearn.preprocessing import LabelEncoder\n",
    "from sklearn.preprocessing import OneHotEncoder\n",
    "import numpy as np\n",
    "from sklearn.model_selection import train_test_split\n",
    "from random import shuffle\n",
    "import pandas as pd"
   ]
  },
  {
   "cell_type": "code",
   "execution_count": 3,
   "metadata": {},
   "outputs": [],
   "source": [
    "df = pd.read_csv('../../../../../../../GDB17.50000000', names=['smiles'])"
   ]
  },
  {
   "cell_type": "markdown",
   "metadata": {},
   "source": [
    "only N+ contain positive charges in this dataset"
   ]
  },
  {
   "cell_type": "code",
   "execution_count": 4,
   "metadata": {},
   "outputs": [],
   "source": [
    "df = df[df['smiles'].str.contains(\"N+\", regex=False)]"
   ]
  },
  {
   "cell_type": "code",
   "execution_count": 5,
   "metadata": {},
   "outputs": [
    {
     "name": "stdout",
     "output_type": "stream",
     "text": [
      "(76796,)\n"
     ]
    }
   ],
   "source": [
    "values = df['smiles']\n",
    "print(values.shape)"
   ]
  },
  {
   "cell_type": "code",
   "execution_count": 6,
   "metadata": {},
   "outputs": [
    {
     "name": "stdout",
     "output_type": "stream",
     "text": [
      "51\n"
     ]
    }
   ],
   "source": [
    "smile_max_length = values.map(len).max()\n",
    "print(smile_max_length)"
   ]
  },
  {
   "cell_type": "markdown",
   "metadata": {},
   "source": [
    "We may want to remove cations with more than 25 heavy atoms"
   ]
  },
  {
   "cell_type": "code",
   "execution_count": 7,
   "metadata": {},
   "outputs": [
    {
     "data": {
      "text/plain": [
       "(array([1.4000e+01, 8.9000e+01, 1.7810e+03, 7.0240e+03, 1.9826e+04,\n",
       "        3.7334e+04, 9.1690e+03, 1.4020e+03, 1.1100e+02, 4.6000e+01]),\n",
       " array([27. , 29.4, 31.8, 34.2, 36.6, 39. , 41.4, 43.8, 46.2, 48.6, 51. ]),\n",
       " <a list of 10 Patch objects>)"
      ]
     },
     "execution_count": 7,
     "metadata": {},
     "output_type": "execute_result"
    },
    {
     "data": {
      "image/png": "[encoded data removed]",
      "text/plain": [
       "<matplotlib.figure.Figure at 0x7ff8765d52e8>"
      ]
     },
     "metadata": {},
     "output_type": "display_data"
    }
   ],
   "source": [
    "plt.hist(values.map(len))"
   ]
  },
  {
   "cell_type": "code",
   "execution_count": 8,
   "metadata": {},
   "outputs": [],
   "source": [
    "def pad_smiles(smiles_string, smile_max_length):\n",
    "     if len(smiles_string) < smile_max_length:\n",
    "            return smiles_string + \" \" * (smile_max_length - len(smiles_string))"
   ]
  },
  {
   "cell_type": "code",
   "execution_count": 9,
   "metadata": {},
   "outputs": [],
   "source": [
    "padded_smiles =  [pad_smiles(i, smile_max_length) for i in values if pad_smiles(i, smile_max_length)]"
   ]
  },
  {
   "cell_type": "code",
   "execution_count": 10,
   "metadata": {},
   "outputs": [],
   "source": [
    "shuffle(padded_smiles)"
   ]
  },
  {
   "cell_type": "code",
   "execution_count": 11,
   "metadata": {},
   "outputs": [],
   "source": [
    "def create_char_list(char_set, smile_series):\n",
    "    for smile in smile_series:\n",
    "        char_set.update(set(smile))\n",
    "    return char_set"
   ]
  },
  {
   "cell_type": "code",
   "execution_count": 12,
   "metadata": {},
   "outputs": [],
   "source": [
    "char_set = set()\n",
    "char_set = create_char_list(char_set, padded_smiles)"
   ]
  },
  {
   "cell_type": "code",
   "execution_count": 13,
   "metadata": {},
   "outputs": [
    {
     "name": "stdout",
     "output_type": "stream",
     "text": [
      "27\n"
     ]
    },
    {
     "data": {
      "text/plain": [
       "{' ',\n",
       " '#',\n",
       " '(',\n",
       " ')',\n",
       " '+',\n",
       " '-',\n",
       " '1',\n",
       " '2',\n",
       " '3',\n",
       " '4',\n",
       " '=',\n",
       " 'B',\n",
       " 'C',\n",
       " 'F',\n",
       " 'H',\n",
       " 'I',\n",
       " 'N',\n",
       " 'O',\n",
       " 'S',\n",
       " '[',\n",
       " ']',\n",
       " 'c',\n",
       " 'l',\n",
       " 'n',\n",
       " 'o',\n",
       " 'r',\n",
       " 's'}"
      ]
     },
     "execution_count": 13,
     "metadata": {},
     "output_type": "execute_result"
    }
   ],
   "source": [
    "print(len(char_set))\n",
    "char_set"
   ]
  },
  {
   "cell_type": "code",
   "execution_count": 14,
   "metadata": {},
   "outputs": [],
   "source": [
    "char_list = list(char_set)\n",
    "chars_in_dict = len(char_list)\n",
    "char_to_index = dict((c, i) for i, c in enumerate(char_list))\n",
    "index_to_char = dict((i, c) for i, c in enumerate(char_list))"
   ]
  },
  {
   "cell_type": "code",
   "execution_count": 15,
   "metadata": {},
   "outputs": [
    {
     "data": {
      "text/plain": [
       "{' ': 9,\n",
       " '#': 22,\n",
       " '(': 20,\n",
       " ')': 14,\n",
       " '+': 8,\n",
       " '-': 0,\n",
       " '1': 25,\n",
       " '2': 19,\n",
       " '3': 15,\n",
       " '4': 2,\n",
       " '=': 11,\n",
       " 'B': 1,\n",
       " 'C': 21,\n",
       " 'F': 6,\n",
       " 'H': 7,\n",
       " 'I': 4,\n",
       " 'N': 18,\n",
       " 'O': 12,\n",
       " 'S': 13,\n",
       " '[': 23,\n",
       " ']': 3,\n",
       " 'c': 26,\n",
       " 'l': 16,\n",
       " 'n': 17,\n",
       " 'o': 5,\n",
       " 'r': 24,\n",
       " 's': 10}"
      ]
     },
     "execution_count": 15,
     "metadata": {},
     "output_type": "execute_result"
    }
   ],
   "source": [
    "char_to_index"
   ]
  },
  {
   "cell_type": "code",
   "execution_count": 16,
   "metadata": {},
   "outputs": [],
   "source": [
    "X_train = np.zeros((len(padded_smiles), smile_max_length, chars_in_dict), dtype=np.float32)"
   ]
  },
  {
   "cell_type": "code",
   "execution_count": 17,
   "metadata": {},
   "outputs": [
    {
     "data": {
      "text/plain": [
       "(76792, 51, 27)"
      ]
     },
     "execution_count": 17,
     "metadata": {},
     "output_type": "execute_result"
    }
   ],
   "source": [
    "X_train.shape"
   ]
  },
  {
   "cell_type": "code",
   "execution_count": 18,
   "metadata": {},
   "outputs": [],
   "source": [
    "for i, smile in enumerate(padded_smiles):\n",
    "    for j, char in enumerate(smile):\n",
    "        X_train[i, j, char_to_index[char]] = 1"
   ]
  },
  {
   "cell_type": "code",
   "execution_count": 19,
   "metadata": {},
   "outputs": [],
   "source": [
    "X_train, X_test = train_test_split(X_train, test_size=0.33, random_state=42)"
   ]
  },
  {
   "cell_type": "code",
   "execution_count": 20,
   "metadata": {},
   "outputs": [
    {
     "data": {
      "text/plain": [
       "(51450, 51, 27)"
      ]
     },
     "execution_count": 20,
     "metadata": {},
     "output_type": "execute_result"
    }
   ],
   "source": [
    "X_train.shape"
   ]
  },
  {
   "cell_type": "code",
   "execution_count": 21,
   "metadata": {},
   "outputs": [],
   "source": [
    "# need to build RNN to encode. some issues include what the 'embedded dimension' is (vector length of embedded sequence)"
   ]
  },
  {
   "cell_type": "markdown",
   "metadata": {},
   "source": [
    "so some keras version stuff. 1.0 uses keras.losses to store its loss functions. 2.0 uses objectives. we'll just have to be consistent"
   ]
  },
  {
   "cell_type": "code",
   "execution_count": 22,
   "metadata": {},
   "outputs": [],
   "source": [
    "from keras import backend as K\n",
    "from keras.objectives import binary_crossentropy #objs or losses\n",
    "from keras.models import Model\n",
    "from keras.layers import Input, Dense, Lambda\n",
    "from keras.layers.core import Dense, Activation, Flatten, RepeatVector\n",
    "from keras.layers.wrappers import TimeDistributed\n",
    "from keras.layers.recurrent import GRU\n",
    "from keras.layers.convolutional import Convolution1D"
   ]
  },
  {
   "cell_type": "markdown",
   "metadata": {},
   "source": [
    "Here I've adapted the exact architecture used in the [paper](https://github.com/maxhodak/keras-molecules/blob/master/molecules/model.py)"
   ]
  },
  {
   "cell_type": "code",
   "execution_count": 23,
   "metadata": {},
   "outputs": [],
   "source": [
    "def Encoder(x, latent_rep_size, smile_max_length, epsilon_std = 0.01):\n",
    "    h = Convolution1D(9, 9, activation = 'relu', name='conv_1')(x)\n",
    "    h = Convolution1D(9, 9, activation = 'relu', name='conv_2')(h)\n",
    "    h = Convolution1D(10, 11, activation = 'relu', name='conv_3')(h)\n",
    "    h = Flatten(name = 'flatten_1')(h)\n",
    "    h = Dense(435, activation = 'relu', name = 'dense_1')(h)\n",
    "\n",
    "    def sampling(args):\n",
    "        z_mean_, z_log_var_ = args\n",
    "        batch_size = K.shape(z_mean_)[0]\n",
    "        epsilon = K.random_normal(shape=(batch_size, latent_rep_size),\n",
    "                                  mean=0., stddev = epsilon_std)\n",
    "        return z_mean_ + K.exp(z_log_var_ / 2) * epsilon\n",
    "\n",
    "    z_mean = Dense(latent_rep_size, name='z_mean', activation = 'linear')(h)\n",
    "    z_log_var = Dense(latent_rep_size, name='z_log_var', activation = 'linear')(h)\n",
    "\n",
    "    def vae_loss(x, x_decoded_mean):\n",
    "        x = K.flatten(x)\n",
    "        x_decoded_mean = K.flatten(x_decoded_mean)\n",
    "        xent_loss = smile_max_length * binary_crossentropy(x, x_decoded_mean)\n",
    "        kl_loss = - 0.5 * K.mean(1 + z_log_var - K.square(z_mean) - \\\n",
    "                                 K.exp(z_log_var), axis = -1)\n",
    "        return xent_loss + kl_loss\n",
    "\n",
    "    return (vae_loss, Lambda(sampling, output_shape=(latent_rep_size,),\n",
    "                             name='lambda')([z_mean, z_log_var]))\n",
    "\n",
    "def Decoder(z, latent_rep_size, smile_max_length, charset_length):\n",
    "    h = Dense(latent_rep_size, name='latent_input', activation = 'relu')(z)\n",
    "    h = RepeatVector(smile_max_length, name='repeat_vector')(h)\n",
    "    h = GRU(501, return_sequences = True, name='gru_1')(h)\n",
    "    h = GRU(501, return_sequences = True, name='gru_2')(h)\n",
    "    h = GRU(501, return_sequences = True, name='gru_3')(h)\n",
    "    return TimeDistributed(Dense(charset_length, activation='softmax'),\n",
    "                           name='decoded_mean')(h)"
   ]
  },
  {
   "cell_type": "code",
   "execution_count": 24,
   "metadata": {},
   "outputs": [],
   "source": [
    "x = Input(shape=(smile_max_length, len(char_set)))"
   ]
  },
  {
   "cell_type": "code",
   "execution_count": 25,
   "metadata": {},
   "outputs": [],
   "source": [
    "_, z = Encoder(x, latent_rep_size=292, smile_max_length=smile_max_length)"
   ]
  },
  {
   "cell_type": "code",
   "execution_count": 26,
   "metadata": {},
   "outputs": [],
   "source": [
    "encoder = Model(x, z)"
   ]
  },
  {
   "cell_type": "markdown",
   "metadata": {},
   "source": [
    "encoded_input looks like a dummy layer here:"
   ]
  },
  {
   "cell_type": "code",
   "execution_count": 27,
   "metadata": {},
   "outputs": [],
   "source": [
    "encoded_input = Input(shape=(292,))"
   ]
  },
  {
   "cell_type": "code",
   "execution_count": 28,
   "metadata": {},
   "outputs": [],
   "source": [
    "decoder = Model(encoded_input, Decoder(encoded_input, latent_rep_size=292,\n",
    "                                       smile_max_length=smile_max_length,\n",
    "                 charset_length=len(char_set)))"
   ]
  },
  {
   "cell_type": "markdown",
   "metadata": {},
   "source": [
    "create a separate autoencoder model that combines the encoder and decoder (I guess the former cells are for accessing those separate parts of the model)"
   ]
  },
  {
   "cell_type": "code",
   "execution_count": 29,
   "metadata": {},
   "outputs": [],
   "source": [
    "x1 = Input(shape=(smile_max_length, len(char_set)), name='input_1')"
   ]
  },
  {
   "cell_type": "code",
   "execution_count": 30,
   "metadata": {},
   "outputs": [],
   "source": [
    "vae_loss, z1 = Encoder(x1, latent_rep_size=292, smile_max_length=smile_max_length)"
   ]
  },
  {
   "cell_type": "code",
   "execution_count": 31,
   "metadata": {},
   "outputs": [],
   "source": [
    "autoencoder = Model(x1, Decoder(z1, latent_rep_size=292,\n",
    "                                       smile_max_length=smile_max_length,\n",
    "                 charset_length=len(char_set)))"
   ]
  },
  {
   "cell_type": "markdown",
   "metadata": {},
   "source": [
    "we compile and fit"
   ]
  },
  {
   "cell_type": "code",
   "execution_count": 32,
   "metadata": {},
   "outputs": [],
   "source": [
    "autoencoder.compile(optimizer='Adam', loss=vae_loss, metrics =['accuracy'])"
   ]
  },
  {
   "cell_type": "code",
   "execution_count": 33,
   "metadata": {},
   "outputs": [
    {
     "name": "stdout",
     "output_type": "stream",
     "text": [
      "Train on 51450 samples, validate on 25342 samples\n",
      "Epoch 1/1\n",
      "51450/51450 [==============================] - 904s 18ms/step - loss: 3.8466 - acc: 0.5281 - val_loss: 2.8455 - val_acc: 0.6573\n"
     ]
    },
    {
     "data": {
      "text/plain": [
       "<keras.callbacks.History at 0x7ff836e89898>"
      ]
     },
     "execution_count": 33,
     "metadata": {},
     "output_type": "execute_result"
    }
   ],
   "source": [
    "autoencoder.fit(X_train, X_train, shuffle = True, validation_data=(X_test, X_test))"
   ]
  },
  {
   "cell_type": "code",
   "execution_count": 55,
   "metadata": {},
   "outputs": [],
   "source": [
    "def sample(a, temperature=1.0):\n",
    "    # helper function to sample an index from a probability array\n",
    "#     a = np.log(a) / temperature\n",
    "#     a = np.exp(a) / np.sum(np.exp(a))\n",
    "#     return np.argmax(np.random.multinomial(1, a, 1))\n",
    "    # work around from https://github.com/llSourcell/How-to-Generate-Music-Demo/issues/4\n",
    "    a = np.log(a) / temperature \n",
    "    dist = np.exp(a)/np.sum(np.exp(a)) \n",
    "    choices = range(len(a)) \n",
    "    return np.random.choice(choices, p=dist)"
   ]
  },
  {
   "cell_type": "code",
   "execution_count": 56,
   "metadata": {},
   "outputs": [
    {
     "data": {
      "text/plain": [
       "'CC12C3C4=C(C1CCC23O)C(=CN4)[N+]([O-])=O'"
      ]
     },
     "execution_count": 56,
     "metadata": {},
     "output_type": "execute_result"
    }
   ],
   "source": [
    "values[393977]"
   ]
  },
  {
   "cell_type": "code",
   "execution_count": 57,
   "metadata": {},
   "outputs": [],
   "source": [
    "test_smi = values[393977]\n",
    "test_smi = pad_smiles(test_smi, smile_max_length)\n",
    "Z = np.zeros((1, smile_max_length, len(char_list)), dtype=np.bool)\n",
    "for t, char in enumerate(test_smi):\n",
    "    Z[0, t, char_to_index[char]] = 1"
   ]
  },
  {
   "cell_type": "code",
   "execution_count": 59,
   "metadata": {},
   "outputs": [
    {
     "name": "stdout",
     "output_type": "stream",
     "text": [
      "\n",
      " callback guess: CC(OCCCCC(1CC==C)OC)(=O))111NN+((O--]==            \n"
     ]
    }
   ],
   "source": [
    "string = \"\"\n",
    "for i in autoencoder.predict(Z):\n",
    "    for j in i:\n",
    "        index = sample(j)\n",
    "        string += index_to_char[index]\n",
    "print(\"\\n callback guess: \" + string)"
   ]
  },
  {
   "cell_type": "code",
   "execution_count": 60,
   "metadata": {},
   "outputs": [
    {
     "name": "stdout",
     "output_type": "stream",
     "text": [
      "(276,)\n"
     ]
    }
   ],
   "source": [
    "properties = ['density', 'cpt', 'viscosity', 'thermal_conductivity',\n",
    "              'melting_point']\n",
    "props = properties\n",
    "devmodel = salty.aggregate_data(props, merge='Union')\n",
    "devmodel.Data['smiles_string'] = devmodel.Data['smiles-cation']\n",
    "cations = devmodel.Data['smiles_string'].drop_duplicates()\n",
    "print(cations.shape)"
   ]
  },
  {
   "cell_type": "code",
   "execution_count": 61,
   "metadata": {},
   "outputs": [],
   "source": [
    "cations = cations.reset_index(drop=True)"
   ]
  },
  {
   "cell_type": "code",
   "execution_count": 62,
   "metadata": {},
   "outputs": [
    {
     "data": {
      "text/plain": [
       "'OCCCCCC([n+]1ccn(c1)C)                             '"
      ]
     },
     "execution_count": 62,
     "metadata": {},
     "output_type": "execute_result"
    }
   ],
   "source": [
    "test_smi = cations[100]\n",
    "test_smi = pad_smiles(test_smi, smile_max_length)\n",
    "Z = np.zeros((1, smile_max_length, len(char_list)), dtype=np.bool)\n",
    "for t, char in enumerate(test_smi):\n",
    "    Z[0, t, char_to_index[char]] = 1\n",
    "test_smi"
   ]
  },
  {
   "cell_type": "code",
   "execution_count": 63,
   "metadata": {},
   "outputs": [
    {
     "data": {
      "text/plain": [
       "(1, 51, 27)"
      ]
     },
     "execution_count": 63,
     "metadata": {},
     "output_type": "execute_result"
    }
   ],
   "source": [
    "Z.shape"
   ]
  },
  {
   "cell_type": "code",
   "execution_count": 64,
   "metadata": {},
   "outputs": [
    {
     "name": "stdout",
     "output_type": "stream",
     "text": [
      "\n",
      " callback guess: CCOC1C=C)C2=CC(NCCC==O))++]([(-]=OO                \n"
     ]
    }
   ],
   "source": [
    "string = \"\"\n",
    "for i in autoencoder.predict(Z):\n",
    "    for j in i:\n",
    "        index = sample(j)\n",
    "        string += index_to_char[index]\n",
    "print(\"\\n callback guess: \" + string)"
   ]
  },
  {
   "cell_type": "markdown",
   "metadata": {},
   "source": [
    "Alright. So now I'm going to loop through our 276 cations, sample 100x from the decoder based on these representations, and see how many sanitize with the RDKit\n",
    "\n",
    "Also will for now remove cations with new elements:"
   ]
  },
  {
   "cell_type": "code",
   "execution_count": 65,
   "metadata": {},
   "outputs": [],
   "source": [
    "cations_with_proper_chars = []\n",
    "for smi in cations:\n",
    "    if set(smi).issubset(char_list):\n",
    "        cations_with_proper_chars.append(smi)"
   ]
  },
  {
   "cell_type": "code",
   "execution_count": 66,
   "metadata": {},
   "outputs": [
    {
     "data": {
      "text/plain": [
       "251"
      ]
     },
     "execution_count": 66,
     "metadata": {},
     "output_type": "execute_result"
    }
   ],
   "source": [
    "len(cations_with_proper_chars)"
   ]
  },
  {
   "cell_type": "markdown",
   "metadata": {},
   "source": [
    "so we had to remove 25 cations"
   ]
  },
  {
   "cell_type": "code",
   "execution_count": 83,
   "metadata": {},
   "outputs": [],
   "source": [
    "cation_samples = []\n",
    "for smi_index, smi in enumerate(cations_with_proper_chars):\n",
    "    smi = pad_smiles(smi, smile_max_length)\n",
    "    Z = np.zeros((1, smile_max_length, len(char_list)), dtype=np.bool)\n",
    "    for t, char in enumerate(smi):\n",
    "        Z[0, t, char_to_index[char]] = 1\n",
    "    string = \"\"\n",
    "    for i in autoencoder.predict(Z):\n",
    "        for j in i:\n",
    "            index = sample(j, temperature=0.5)\n",
    "            string += index_to_char[index]\n",
    "    cation_samples.append(string)"
   ]
  },
  {
   "cell_type": "code",
   "execution_count": 84,
   "metadata": {},
   "outputs": [
    {
     "name": "stdout",
     "output_type": "stream",
     "text": [
      "sampled cations: 251\n",
      "unique samples: 251\n"
     ]
    }
   ],
   "source": [
    "print('sampled cations: {}'.format(len(cation_samples)))\n",
    "print('unique samples: {}'.format(pd.DataFrame(cation_samples).drop_duplicates().shape[0]))"
   ]
  },
  {
   "cell_type": "code",
   "execution_count": 85,
   "metadata": {},
   "outputs": [],
   "source": [
    "from rdkit import Chem\n",
    "from rdkit.Chem import Draw"
   ]
  },
  {
   "cell_type": "code",
   "execution_count": 86,
   "metadata": {},
   "outputs": [
    {
     "name": "stdout",
     "output_type": "stream",
     "text": [
      "CCCCCCCCNNCCCC=C(NCC11)[N+]([O-])=O                \n",
      "CCCCC1CCCCCCCC(=CCC1)[N+]([O-])=O                  \n",
      "CC1CCCCC(CCCCC=NOC1C)[N+]([O-])=O                  \n"
     ]
    },
    {
     "data": {
      "image/png": "[encoded data removed]",
      "text/plain": [
       "<matplotlib.figure.Figure at 0x7fa5e657d7f0>"
      ]
     },
     "metadata": {},
     "output_type": "display_data"
    },
    {
     "data": {
      "image/png": "[encoded data removed]",
      "text/plain": [
       "<matplotlib.figure.Figure at 0x7fa5c6b6acc0>"
      ]
     },
     "metadata": {},
     "output_type": "display_data"
    },
    {
     "data": {
      "image/png": "[encoded data removed]",
      "text/plain": [
       "<matplotlib.figure.Figure at 0x7fa5ce6ade48>"
      ]
     },
     "metadata": {},
     "output_type": "display_data"
    }
   ],
   "source": [
    "% matplotlib inline\n",
    "for smi in cation_samples:\n",
    "    \n",
    "    try:\n",
    "        Draw.MolToMPL(Chem.MolFromSmiles(smi))\n",
    "        print(smi)\n",
    "    except:\n",
    "        pass"
   ]
  },
  {
   "cell_type": "code",
   "execution_count": 87,
   "metadata": {},
   "outputs": [
    {
     "data": {
      "text/plain": [
       "['CCNCC(CCCO=N)=CCNCC11)[N+]([O-])=O                 ',\n",
       " 'CC1CCCCCCC=CCNC=2C1N1)N++]([O-])=O                 ',\n",
       " 'CCC(CCCC=CC1CCNCCC1111[N+]([O-])=OO                ',\n",
       " 'CCCCCCCCCNC=CNCN=C=C)[N+]([OO])=OO                 ',\n",
       " 'CCCCCN=CCCCCC=NNC(1C)[N+][[O-])=O                  ',\n",
       " 'CCNCCNN=CCNCCCCCC=)[N+]([O--)=OO=C                 ',\n",
       " 'CCCC1CCCSC(CCCC1=N1[NN]([O-])=O))#O                ',\n",
       " 'CC(CCC=CCNCN==CCCCCC11)N+]([O-)))=O                ',\n",
       " 'CCCCC1NN)CCCC(CNC=CC)[++]([O-])=O                  ',\n",
       " 'CCCCCCCCCCNCCCC(CCNO[NN+([O--)==O                  ',\n",
       " 'CC1CC=CCN=CC=CCNCNCCC)N++([[O]]==O                 ',\n",
       " 'CCC==NCCCNCCNCCC(CCC1[[++([O--])=O                 ',\n",
       " 'CCCCCCNC(CCC=C=CC=CC)[N+]([O-])=OO                 ',\n",
       " 'CCCCCCCC=CCCC=N=CCC1)[N+](OO-])=O                  ',\n",
       " 'CCNCCCCCN)C=C)CCC(===1)[N+]([O-])=O                ',\n",
       " 'CCCCCCCCNNCCCC=C(NCC11)[N+]([O-])=O                ',\n",
       " 'CCNCCC=)(CNCC1CCCC12NN++([O--))=O                  ',\n",
       " 'CCCCCCNNCCCNC1CONNN=1[N+]([O-])=OO                 ',\n",
       " 'CCC=CCCCC(NNCCCCNCCC)[NN+([[O-])=O                 ',\n",
       " 'CCCCCCCCCC(CCC(CNCC11[N+]([O-])==                  ',\n",
       " 'CC1CNCCCCC(2=CCCCNCC11[[N+]([O-])=O                ',\n",
       " 'CCCCCCCCCCNCC=C=)1C[++]([[O]))OO                   ',\n",
       " 'CC1CCCCN1CCC=CCCC11[N+]([O-]))=O                   ',\n",
       " 'CCCCCCCCC==NCCC=(=N1C[N+]([O-])=OO                 ',\n",
       " 'CCC1CCCCCC=C=C=CCNC)1N[N+]([O-])=OO                ',\n",
       " 'CCCCC1CCCCCCCC(=CCC1)[N+]([O-])=O                  ',\n",
       " 'CCCCCCC1CCCCCCCC1COC11)[+](([O-])OO                ',\n",
       " 'CCCC)CCCCCCCCCCNCCCN)N1[N+]([O-])=O                ',\n",
       " 'CCCC=C)CCCCCNCNCC=CC[[++](O-]]==O                  ',\n",
       " 'CCCN(CCCCCNCCC=CCCCC))[N](([O-])=O                 ',\n",
       " 'CC(CCC=CCCCC=CCC)CCCC1[[N+]([O-])=O                ',\n",
       " 'CCCCCCCC=CCCCCCC=1)[[N+]([O-])=O                   ',\n",
       " 'CCCCCCCCNC=CN=CN=(NCC))[N+]([O-])=O                ',\n",
       " 'CC1CCCCC(CCCCC=NOC1C)[N+]([O-])=O                  ',\n",
       " 'CCC=CCC)C)CCCCCC(CCCC)[N+]([O-])=O                 ',\n",
       " 'CCCCC(C(CC(CCCC)CCOCOC1)[N+]([O-])=O               ',\n",
       " 'CC(CCCCC(CCN)CCNCC1=N1[[N+]([O-])=O                ',\n",
       " 'CCCC)CC((=C=CCC(===CC1)[++]([O-])=O                ',\n",
       " 'CCCCNNCCCCCCCCCCCCNC))[N+]([O-])=O                 ',\n",
       " 'CC1NCCCCCN)=CCN(CCC1[N+]([O--)=O                   ',\n",
       " 'CCCCCCCCCCCCC(=CC=N)[[+]([O-])==O                  ',\n",
       " 'CCCC=C(CCC=NC=CCCN11[[N+]([O-])=O                  ',\n",
       " 'CC(CCC1C)CCCCCCNCCCNCCC)[N+]([[-])=O               ',\n",
       " 'CCC=CCCCCCCC(CCC))CCCC1)[N+]([O-])=O               ',\n",
       " 'CCC=N=1CCC=CC=CCC=1[[N+]([OO])=O                   ',\n",
       " 'CC(1CCCCC=CCCCCCNCCN1[[N+]([O-])=O                 ',\n",
       " 'CCCCCCCC=NC(NC(CCC1C)N++][OO-])=O                  ',\n",
       " 'CCCC=CCCCCNCCCCNNCCC)[N+]([O-])=OO                 ',\n",
       " 'CC1CCCNCCCCCNCCC1[NN]][O-])=O=CC#                  ',\n",
       " 'CCCCCCCN=NC(CCCCCCC11[[N+][[O-])=O                 ',\n",
       " 'CC1CCCCCNCNCCC=C==CCN)[N+]([O-])=OO                ',\n",
       " 'CC(1CN)NCN(C=CCCNCCCCCC)[N+]([O-])=O               ',\n",
       " 'CCCCCCC((11CCCCCCCCC=2)[N+(([O-])=OO               ',\n",
       " 'CC(C)COCCCNCCO=C)CCCCC1)[++]([O-])OO               ',\n",
       " 'CCCCC=CNCCCCCCCC=CC1)[N+]([O-])=O                  ',\n",
       " 'CCCCCNCCCCC(CCNCCCNCC[N+]([O-])=O                  ',\n",
       " 'CC1OC(CCCC)=CCCC)CCNCOC)[N+]([[-])=O               ',\n",
       " 'CCC1=CC(NCCCCCNNC=C=NC1)[[+]([O-])=O               ',\n",
       " 'CC(=CCCCC(C=CC(C(CNNOC1[[N+]([O-])=O               ',\n",
       " 'CCC=CC(CCC1CCCCCCCC=1)[[++][OO])=OO                ',\n",
       " 'CCNN(=CCCCCCCCCCN(CCNC[[N+]([O-])=O                ',\n",
       " 'CCCCCCC(CCC(=CCC=N=)11[[N+]([O-])=O                ',\n",
       " 'CCC(CNCCC=CNNCC()C11)[N+]([O-]]=O                  ',\n",
       " 'CC1C(CCN=C1C(NCNCC=N1[N+](OO-])=OO                 ',\n",
       " 'CCCCC(CCCCCCCCCC=CCC1)[N+]([O-])=O                 ',\n",
       " 'CCCNCC=C1CCC(CN(CC11)[N+]([O-])=O                  ',\n",
       " 'CCC2CC=CCCC)CCC=C)[N+]([O-])OOCCC                  ',\n",
       " 'CCCCCCC1C1CCNCCCCC1[NN]([O-]))=O                   ',\n",
       " 'CCCCCCC1C(CCC(=CC11[N+]([O--)==O                   ',\n",
       " 'CCCCCCCCCCCN(CCNC1)[+]][[-]])=OO                   ',\n",
       " 'CCCCCC(OCNN1CCCC=CC)[N+(([O-])=O                   ',\n",
       " 'CCCCCNC1CC1CCCCCC1)[N+]([[-])=OO                   ',\n",
       " 'CCCCCCC((=CCC=CNCCC11)[N+]([O-])=OO                ',\n",
       " 'CCCCCNC=CCNCNC(==CN1[N+]([O-]))OO                  ',\n",
       " 'CCNCC(CCC1C1CCCCNOCN==1)[N+]([O-])=O               ',\n",
       " 'CCCNC1CCC=CC)C)CCCC=OC1)[N+]([O-])==               ',\n",
       " 'CCCN(NCC1=C=C))OC(==N1))[N+(([O-])=O               ',\n",
       " 'CCCCCNNC(CC(NCCCCC1[[N+(([O-])=O                   ',\n",
       " 'CCCCCC=(CNC=CCC=CN1[N+]([O-]))O))=O#               ',\n",
       " 'CCCC=CC1C1CCCCC=CN1C)NN+]([O-])=O                  ',\n",
       " 'CCCCC=CCCCNN1(N=CC1[[N+]([O-])=O                   ',\n",
       " 'CCCCCCCCNNCCCCC==NN=1[[N+]([O-])=OO                ',\n",
       " 'CCCCCC(CC)CCC)CNCCCC))[N+]([O-])=OO                ',\n",
       " 'CCCCCNCC(CCCCCCNC)NCCC)[N+]([O-])=O                ',\n",
       " 'CCCCC(=CCCNCC1CCCCNC===)[N+]([O-])=O               ',\n",
       " 'CCCCC(CCCCC=CCC(=)(=N1N1)[N+]([[-])=O              ',\n",
       " 'CC1CCCNCCCCCC=(CNN(CC=1)[N+]([O-])=O               ',\n",
       " 'CCCCCNNNC=CCNCONCC1)[N+]([O-])=OO                  ',\n",
       " 'CCCCCNC(CCCCCC==C=11[N+]([O-]))=O                  ',\n",
       " 'OCCCC)=1)1CCCCCC1CC)[N+]([O-])=OO                  ',\n",
       " 'CCC=(CCC==CCCC=C1C)[N+]([O-])==O                   ',\n",
       " 'CC(CCCCCCCCCCC)=1C11[N+]([O-]))OO                  ',\n",
       " 'CCC(CCC(CC=C1=(CCCN1)[N]]([O-])=O                  ',\n",
       " 'CC1CCN=CCCCCCCCCC=1[[N]](O--])=O                   ',\n",
       " 'CCCCCCCCCC(CCCC)CN1)[+]](OO-])=O                   ',\n",
       " 'CCCCCCCC=COC=CC=1C)[N+]([O-])==O                   ',\n",
       " 'CC1CCCCCCCCCCCCC(1CCCC)[N+]([O-])=O                ',\n",
       " 'CCCCCC(C(CC=C)C==CCCC==1)[N+]([O-])=O              ',\n",
       " 'CCN=CCCCCC=C=CCCNCCOCCC))NN+][[O-]==O              ',\n",
       " 'CC1NCCCCCCCCCNCCC(CCC1[N+]([O-])=O                 ',\n",
       " 'CC1C=COCCNCCCC=)CCCC=1)[N+]([O-])=O                ',\n",
       " 'CCCCCNC1(CC(=CC=CC=CN=N[[N+][[O]])=O               ',\n",
       " 'CCC(CCCC(CCCCCC(C(CCNN[[+]]([O-])=O                ',\n",
       " 'CCCCC=CCCCCCN()NCCCC)[N+]([O-])=O                  ',\n",
       " 'CC(=CC)CCCCCCCNCCCNCCC11[N+]([O]]]=O               ',\n",
       " 'CC1CCOCCCCCCCCCCCCCC=1)[N+]([O-])OO                ',\n",
       " 'CCCCC1CCCCCCNCCNCCC1C1)[N+]([O-])=OO               ',\n",
       " 'CCCCC(COCN==CCCC=C(CC21[[N+]([O-])=O               ',\n",
       " 'CCC=)C=C(CCCCCCCNC==(=C2)NN]][[--])=O              ',\n",
       " 'CC1C)NCCC==CCCCCOCCN1N)N+]]([O-])OO                ',\n",
       " 'CCCCCCNCCCC=C=CCCCCC1)[N+]([O-])=O                 ',\n",
       " 'CCCCNCCCNCNCCCCCNC1)[N+]([O-])==O                  ',\n",
       " 'CCCCCCCC(CNCCCC1CCCC))[N+]([O-])=O                 ',\n",
       " 'CCC=CCCCNN=CCCCCC121)[N+]([O-])==                  ',\n",
       " 'CCC=CCCC1CCC(=(CCCC(CC1)[N]]([O-])=O               ',\n",
       " 'CC11CNCCCCCCCCCCCC=1C11)[N+]([O-])=O               ',\n",
       " 'CCCCCCC==CC)CCCNCC1)[N+]([O-]))OO                  ',\n",
       " 'CCC(CCCCCNCCCCCCCC=C=1)[N+]([[--)=OO               ',\n",
       " 'CCCC1CCC1C=CNCCCCC=C=O1)[N+]([OO))=O               ',\n",
       " 'CC(NNCN11CCCCCCCCNCC1)[N+]([O-])=O                 ',\n",
       " 'CC(C)C((CCCCCCCCCCC=CC=1)[N+]([O-])==              ',\n",
       " 'CC1(CCOCCCCCCCCNCCCCC11[[N+]([O-])=O               ',\n",
       " 'CCCC)CNNC=(CCCCNC=C==C1)[N+]([O-])=O               ',\n",
       " 'CCCCC==CCCCCC=(CCCCC11)[N+]([O-])=O                ',\n",
       " 'CCC1CNCCCCCC=CC=C)=CC1[N+]([O-])=OO                ',\n",
       " 'CCCCCCCCNCCC)=CCC(1=C1)[N+(([O-])=O                ',\n",
       " 'CC1CN1N=CCCCNCCCCCCCC1[N+]](OO]))=                 ',\n",
       " 'CCC=C=CCCCCC=CNCCC=C1[[N+]([O-])=O                 ',\n",
       " 'CCCC1CCCCC=CCCCCCC)[N+]([O-]]==O                   ',\n",
       " 'CCCCCC(CCCNCNCOCCCC)[N+]([O-])=OO                  ',\n",
       " 'CCCCCOCC=CCCC(CCC21[[N+]([--])=O                   ',\n",
       " 'CCCCCCCCCCC=NN=CCCO)[N+](OO-])==O                  ',\n",
       " 'CCCCC1)N1CCC=N=OCCCC)[N+]([O-])=O                  ',\n",
       " 'CCNCC(CCCN(CNNCCN1)[N+]([O-]))=                    ',\n",
       " 'CCCCC=CCC=CCN=CCC11)[N+]([O-])=OO                  ',\n",
       " 'CCCC11CNCCCCCCCNCCN1[N+]([--])==O                  ',\n",
       " 'CCCCCCCCC(=CC=CCCCC11)N++([[O-])OO                 ',\n",
       " 'CCCCCNNCCCCC=)CN=11[N+]([[-])==O                   ',\n",
       " 'CC1CCN=CCCCCCCN=1C1)[N+]([O-])=O                   ',\n",
       " 'CCCCCCCCCOCC)CCC=N=1[N+]([O-])=OO                  ',\n",
       " 'CC1=C(CC((C=)(CCC=C()C)(2=C=22[N+](OO-]))OO=CO     ',\n",
       " 'CC1CCCCCCCNCCCC=CC=CC)[N++((O-])==                 ',\n",
       " 'CC1C=CCCCCCCCCCCCN=CC)[N+]([O-])=O                 ',\n",
       " 'CCCCCCCNCCCCCCC=CCC)[N+]([O-])=OO                  ',\n",
       " 'CCCCCNC=CCCCCCNCC11[N+]([O-]))=O                   ',\n",
       " 'CCCCCNC=CCSCCCNCCCC1)[N+]([O-])=O                  ',\n",
       " 'CCCCCCC=CC==CCCCCCCNC11[N+]([O-])=O                ',\n",
       " 'CCCC=C=CCCCCCCN(CCCN1)[N+]([O-])=O                 ',\n",
       " 'CC(1CCNCCN(CCNCC=(CCCC1)[N+]([O-])=O               ',\n",
       " 'CCC1=CCC=CC=CC)NNCC=C1)[N+]([O-])=O                ',\n",
       " 'CCNCNCCC1CCCCNCCCCCC1[N++([O-])=OO                 ',\n",
       " 'CCCCC(CC1NCCONC1CCNN1)[N+]([O-])==O                ',\n",
       " 'CC1CC1CCCCCC=C=(CCC=NC1[N+]([O-])=O                ',\n",
       " 'CCCN=(CCCCC=CCC(CN==C1)[N+]([O-])=O                ',\n",
       " 'CC(CC==C=CCNCNCCC=C1[N+]([O-]))O                   ',\n",
       " 'COCCC(CCCCCCNCCC=1N)[N+]([OO])=O                   ',\n",
       " 'CCCCCCCCCOCCCCCNNCC1)[N+]([O-])=O                  ',\n",
       " 'CC(C=(CCC((CC1CCCFCC=CN1C[N+]([[-])==O             ',\n",
       " 'CCN(CCCC(CCC(==CO(CC11[[N+]([O-])=O                ',\n",
       " 'CN(C(CCCC(C=CC=CCCCC=C1[[N+]([O-])=O               ',\n",
       " 'CCOCC)CC1NC=(CNCC111[N+]][O-])=OO                  ',\n",
       " 'CCNCC1C(1C1CCNCCCCC=N1)[N+]][O-])=O                ',\n",
       " 'CCCCN(NCCCCCCCC=CC(=1C)NN+]([O-])=O                ',\n",
       " 'CCCNCCCC(CNCCC(CCNCCCC)[N+]([O-])=O                ',\n",
       " 'CC1CCCN1C=CCCNC=CC=1))[N]]([O-])=O                 ',\n",
       " 'CCC(CCCCCCCCCNC)C)NNC=1))N+]([O-])=O               ',\n",
       " 'CCCCC==CCCNOCCCCC(N=))[N+]([O-])=OO                ',\n",
       " 'CC1OCCCC=C1CC)1CCCCNNC1)[N+]([O-]]=O               ',\n",
       " 'CCN=C=1NCC(=CNNCC)2CN11)[N+]([O-])=O               ',\n",
       " 'CC1(CCCCCCCC)CC1CCCCCCC1[N+]([O]])==               ',\n",
       " 'CCCCNCCCCCCCCCCCNCC)[N+]([O-])=OO                  ',\n",
       " 'CCNCCC1=CC)=CN1C(NC11[N+]([O-])=OO                 ',\n",
       " 'CCCC(CCCCNCC=CCCC1)[N+]([O-])=OO                   ',\n",
       " 'CCCCCCCCO=1CCCC=CC1N[NN+]([O-])=O                  ',\n",
       " 'CCNCCCCC=CCCCCCCCCCC1)[N+]([O-])=O                 ',\n",
       " 'CCC1C(C=(=NCCNCC=NCCC1))[N+]([O-])=O               ',\n",
       " 'CCCCCCOC(=CCN))CCCC1C1)[N+]([O-])=OO               ',\n",
       " 'CCCCC(CNCCCCCC)CC=CC2N[N+]([O-])=OO                ',\n",
       " 'CCCCCCCCOCCCCC=CCCCCN1))N+]([O-])=O                ',\n",
       " 'CCCCC(CCCCNCC((NCC=C1[[N]]([O-])=O                 ',\n",
       " 'CC1NC)=CN=(CC2CNNC=CC1)[N+]([O-])=OO               ',\n",
       " 'CC1CNOCCCCCC(CCCC=CC1[NN+][O-])=OO                 ',\n",
       " 'CCCCNCCCCCCCCCCCCCC1[N+]([O-]))OO                  ',\n",
       " 'CCCCCCCCCCNCC1CNCNC1[N+]((O-])==O                  ',\n",
       " 'CCC=CCCCCN(CCCCC(CCN1)[N+]([O-])=OO                ',\n",
       " 'CCCCC11CCCCN==C(C111[N+]([O-])=O                   ',\n",
       " 'CCCCCCCCCNCNC=C(CCCCC1[[N+](OO-])=O                ',\n",
       " 'CC((CCCCC2CCN(C(CCCC111)[N+]([[O]))=               ',\n",
       " 'CCCCCCCNCC=CC=C=C)C=))[N+]([O-])=O                 ',\n",
       " 'CCN(CC1CCCOC((CC(CNCC11[NN](([-]])=O               ',\n",
       " 'CC(NCC=CC1CCCC()CNCC1)[[N+]([O-])=O                ',\n",
       " 'CCNCC1CCC=CCNCCC)==CN11[N+]([O-])=O                ',\n",
       " 'CCCCCCCCC(=C(CCCCCNN11[[N]][[O-])=O                ',\n",
       " 'CNCCCN(NCCCCCNCCC1)[N+]([O-]))=O                   ',\n",
       " 'CC(CCNCCCCCC=C(CCC=NC1)[N+]([O-])=O                ',\n",
       " 'CC(C=CNCNCCNCCNCN1CCN=))NN]]([]-])=O               ',\n",
       " 'CCCCC(C1C1CCNC(NCCC1C[N+]([O-])=OO                 ',\n",
       " 'CCCCCCNN=CCCCCCN(C12[N+]((O-])=OO                  ',\n",
       " 'CC(CCCCCCCCCCC1CC(N11[N+]([[-])=O                  ',\n",
       " 'CC(CCC=CCC1NC(CCCC=1N11)[N+]([O-])=O               ',\n",
       " 'CCCCCCCCC1(CCCNCNC===)))[N+]([O-])=O               ',\n",
       " 'CCC1CC(NCC(===CCC11[[N]][[--])=O                   ',\n",
       " 'CCCCCCCN(CNCC2CCC==C11[N+]([OO])=O                 ',\n",
       " 'CCCCNCCCC1CC=CC1C=C1)N+]](O--])=O                  ',\n",
       " 'CC1CC1CCCCC(CCSCNC31)N+]([O--]==O                  ',\n",
       " 'CCCCCCCCCCCCCNC=CC=)11)[N+]([O-])=O                ',\n",
       " 'CCC(CCCCCOCC(CCCNCCC11[N+]([O-])=O                 ',\n",
       " 'CCC=C2CCCCC1=(CNCCCCC)1[N+]([O--)=O                ',\n",
       " 'CCC(=C1NCCNCNN=C)CC=(C111[[++]([O-])=O             ',\n",
       " 'CC11CC=)CCC=(NCC)=CCC1)[N]]([O-])=OO               ',\n",
       " 'CC(CCCCCCCCC==CCCCNCC=N)[N+]([O-])=O               ',\n",
       " 'CCO1=CCCCCNC(==CC11)[N+]([O-])=OO                  ',\n",
       " 'CCCCCC=(NNCCNC11[N+]([-O])==O=                     ',\n",
       " 'CCCCN=CCC=CC==CCCCC=C1)NN+]([O-])=O                ',\n",
       " 'CCNC=CCNN(CCCCCNCCN1)[N+]([O-])=OO                 ',\n",
       " 'CC1CC==1CCNCNCCC=CC)[N+]([O-])=OO                  ',\n",
       " 'CCCCCC1(CCCCCC==C)[N+]((OO])=OO))OC                ',\n",
       " 'CCCCCCCCCNCOC==CCC=C1)[N+]([O-]]=OO                ',\n",
       " 'CCC1NCC1CCCCCCNONC=N1)[N+(([O-])=O                 ',\n",
       " 'CCCCCCC(NC1CNCCN(=N1[NN]([O-])=O                   ',\n",
       " 'CC1C=OCC(CNCCCCCCCC=))[N+]([O-])=O                 ',\n",
       " 'CCNCCOCNCCCCCCNCCC==NN)NN+]([O-])=O                ',\n",
       " 'CCCCCCCC=CC=)C=CC(CNC))N+]]([O]])OO                ',\n",
       " 'CCCC=CCCCC=CCCCCCCC1C1[N+]([O-])=O                 ',\n",
       " 'CCNCC(CCCC)(CC=CCC11[N+]((OO]])=O                  ',\n",
       " 'CCC1CCCCCCNCNCCCNC==C1[N+]]([O-])=O                ',\n",
       " 'CCCCCN(CC1N=CNC=CCC21[[++]([O-])=O                 ',\n",
       " 'CCCC1C(CC1CC==OCC1)[N+]([[-])=O                    ',\n",
       " 'CC1C(=CCCCCCC=C(ONC))N+]([O-])=O                   ',\n",
       " 'CCCCCCCCCC)NCCCCC=CCN=)[NN]([[-]])=O               ',\n",
       " 'CC1(CCCCCC(CCC(C)CC=1)[N+]((OO])=OO                ',\n",
       " 'CCCCCNCC=CNCCC(CCC21[N++]([--]==O                  ',\n",
       " 'CCCCC=CCNCCN===(C==1[N+]([O-])=OO                  ',\n",
       " 'CCC=CCNCCCC)CNCCNCC))N+]([O-]))O                   ',\n",
       " 'CCCCCCC==CC(1CCC11)[N+]([O-])=OO                   ',\n",
       " 'CCNCCCCCCCNCC=C=(NNCC1)[N+]([O-])=O                ',\n",
       " 'CCC=CCC(CCCCCCCCCCO1[[N+]([O-])=O                  ',\n",
       " 'CC1C=CCCN(CC(C=CCCNC1))[N]((OO-))=OCOO             ',\n",
       " 'CCC1CC==CNCCCCCC=)CC11)[N+](OO-]]=O                ',\n",
       " 'CC1CCCNCCC(CC)C)CCNNC1[[N]]([O-])=O                ',\n",
       " 'CCC(NC11C=NCCNCC(=C111[[N+]([O-])=O                ',\n",
       " 'CCCCCCNCNCC(=CCCCCCN))[N+]([O-])=O                 ',\n",
       " 'CCCC=CCCCCC=NCCCCC11[N+]([O-]])=O                  ',\n",
       " 'CC1CCCC==CCCC()CCCC=)[N+]](O-])=OO                 ',\n",
       " 'CC(N=CC)C1CCNC=C=CCO1C[NN+](O-]])=O                ',\n",
       " 'CCCCCC=CCCCCCCCC=C=NC)[++]([O--)=O                 ',\n",
       " 'CCCCC(CCCCCCCCCCC11[[N+]([O-])=O                   ',\n",
       " 'CC1CCN(=C=CCCNOCCC[[N+]([O-])=OO                   ',\n",
       " 'CC1CCC(C(=CCCNCCCCCNCN1)[+]][[--])=O               ',\n",
       " 'CCCNCCNCCCNC=CCCCCC)1[NN]][[O]]==O                 ',\n",
       " 'CCCC(CNC1CN=CCC=CC1[[N+]([O-])=OO                  ']"
      ]
     },
     "execution_count": 87,
     "metadata": {},
     "output_type": "execute_result"
    }
   ],
   "source": [
    "cation_samples"
   ]
  },
  {
   "cell_type": "code",
   "execution_count": null,
   "metadata": {},
   "outputs": [],
   "source": []
  }
 ],
 "metadata": {
  "kernelspec": {
   "display_name": "Python 3",
   "language": "python",
   "name": "python3"
  },
  "language_info": {
   "codemirror_mode": {
    "name": "ipython",
    "version": 3
   },
   "file_extension": ".py",
   "mimetype": "text/x-python",
   "name": "python",
   "nbconvert_exporter": "python",
   "pygments_lexer": "ipython3",
   "version": "3.6.4"
  }
 },
 "nbformat": 4,
 "nbformat_minor": 2
}
